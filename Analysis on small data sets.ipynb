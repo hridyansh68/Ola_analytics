{
 "cells": [
  {
   "cell_type": "code",
   "execution_count": 230,
   "metadata": {},
   "outputs": [],
   "source": [
    "import pandas as pd\n",
    "import numpy as np\n",
    "import matplotlib.pyplot as plt\n",
    "import seaborn as sns\n",
    "%matplotlib inline"
   ]
  },
  {
   "cell_type": "code",
   "execution_count": 231,
   "metadata": {},
   "outputs": [],
   "source": [
    "df = pd.read_csv(\"login_hours.csv\")"
   ]
  },
  {
   "cell_type": "code",
   "execution_count": 232,
   "metadata": {},
   "outputs": [],
   "source": [
    "df = df.sort_values(by=['car_number','active_date'],ascending=[True,True])\n",
    "df = df[df.category != \"auto\"]\n",
    "df = df.head(5000)"
   ]
  },
  {
   "cell_type": "code",
   "execution_count": 233,
   "metadata": {},
   "outputs": [
    {
     "data": {
      "text/plain": [
       "A29TV6235       8\n",
       "AP01TV0821      7\n",
       "AP01TV0906     28\n",
       "AP02TV1883     44\n",
       "AP02TV2215      8\n",
       "AP02TV2290     15\n",
       "AP02TV2579     29\n",
       "AP02TV6490     21\n",
       "AP02TV6695      8\n",
       "AP03TB9627     35\n",
       "AP03TH0545     23\n",
       "AP03TL3034      7\n",
       "AP03TV0966     45\n",
       "AP03TV5840     32\n",
       "AP03TV6283     37\n",
       "AP03TV6338     21\n",
       "AP04TV1532      2\n",
       "AP04TV2109      7\n",
       "AP04TV2127     21\n",
       "AP04TV6065     25\n",
       "AP04TV6089     42\n",
       "AP04TV6125     33\n",
       "AP04TW1711     46\n",
       "AP04UB1113     10\n",
       "AP04UB1563     30\n",
       "AP05TH1074      9\n",
       "AP05TM1472     15\n",
       "AP05TV1490      8\n",
       "AP05TV4218     26\n",
       "AP05TV4275     12\n",
       "               ..\n",
       "AP09TVA2431     4\n",
       "AP09TVA2432    60\n",
       "AP09TVA2434    23\n",
       "AP09TVA2462     3\n",
       "AP09TVA2463     1\n",
       "AP09TVA2479    43\n",
       "AP09TVA2505    22\n",
       "AP09TVA2521     3\n",
       "AP09TVA2527    26\n",
       "AP09TVA2541     2\n",
       "AP09TVA2550    15\n",
       "AP09TVA2642    24\n",
       "AP09TVA2654     8\n",
       "AP09TVA2665    40\n",
       "AP09TVA2675    28\n",
       "AP09TVA2685     1\n",
       "AP09TVA2696    42\n",
       "AP09TVA2699    40\n",
       "AP09TVA2710    19\n",
       "AP09TVA2726    43\n",
       "AP09TVA2737    32\n",
       "AP09TVA2748    14\n",
       "AP09TVA2797     2\n",
       "AP09TVA2868    25\n",
       "AP09TVA2869    28\n",
       "AP09TVA2906    13\n",
       "AP09TVA2921    41\n",
       "AP09TVA2964    42\n",
       "AP09TVA3019    18\n",
       "AP09TVA3040    20\n",
       "Name: car_number, Length: 216, dtype: int64"
      ]
     },
     "execution_count": 233,
     "metadata": {},
     "output_type": "execute_result"
    }
   ],
   "source": [
    "number_of_days = df[\"car_number\"].value_counts()\n",
    "number_of_days = number_of_days.sort_index()\n",
    "number_of_days"
   ]
  },
  {
   "cell_type": "code",
   "execution_count": 234,
   "metadata": {},
   "outputs": [
    {
     "data": {
      "text/plain": [
       "car_number\n",
       "A29TV6235        9.846944\n",
       "AP01TV0821      63.160556\n",
       "AP01TV0906     236.926389\n",
       "AP02TV1883     320.696389\n",
       "AP02TV2215      55.156667\n",
       "AP02TV2290      23.669167\n",
       "AP02TV2579     321.905556\n",
       "AP02TV6490     110.266389\n",
       "AP02TV6695      92.548056\n",
       "AP03TB9627     109.752500\n",
       "AP03TH0545      57.777222\n",
       "AP03TL3034     109.590278\n",
       "AP03TV0966     630.347222\n",
       "AP03TV5840     225.613333\n",
       "AP03TV6283     154.144167\n",
       "AP03TV6338      48.570000\n",
       "AP04TV1532       0.195556\n",
       "AP04TV2109      75.583056\n",
       "AP04TV2127      96.010000\n",
       "AP04TV6065     100.838889\n",
       "AP04TV6089     116.315833\n",
       "AP04TV6125      39.305833\n",
       "AP04TW1711     223.516389\n",
       "AP04UB1113      49.625278\n",
       "AP04UB1563     219.313056\n",
       "AP05TH1074     105.583889\n",
       "AP05TM1472      35.988056\n",
       "AP05TV1490      32.729167\n",
       "AP05TV4218     166.043056\n",
       "AP05TV4275      29.176389\n",
       "                  ...    \n",
       "AP09TVA2431     22.744444\n",
       "AP09TVA2432    167.849167\n",
       "AP09TVA2434    212.459167\n",
       "AP09TVA2462     13.480556\n",
       "AP09TVA2463      0.007500\n",
       "AP09TVA2479    243.375000\n",
       "AP09TVA2505    139.694722\n",
       "AP09TVA2521      1.862222\n",
       "AP09TVA2527    198.612778\n",
       "AP09TVA2541     15.007222\n",
       "AP09TVA2550     49.805833\n",
       "AP09TVA2642     58.358889\n",
       "AP09TVA2654     22.533611\n",
       "AP09TVA2665    140.024167\n",
       "AP09TVA2675    161.040000\n",
       "AP09TVA2685      0.936389\n",
       "AP09TVA2696    177.991667\n",
       "AP09TVA2699    216.633056\n",
       "AP09TVA2710     24.667500\n",
       "AP09TVA2726    329.916944\n",
       "AP09TVA2737    271.398056\n",
       "AP09TVA2748     53.072500\n",
       "AP09TVA2797      8.784722\n",
       "AP09TVA2868     86.613333\n",
       "AP09TVA2869    123.335556\n",
       "AP09TVA2906     34.069722\n",
       "AP09TVA2921    524.241389\n",
       "AP09TVA2964     81.920556\n",
       "AP09TVA3019     70.636389\n",
       "AP09TVA3040     94.140000\n",
       "Name: login_hours, Length: 216, dtype: float64"
      ]
     },
     "execution_count": 234,
     "metadata": {},
     "output_type": "execute_result"
    }
   ],
   "source": [
    "total_login_hours = df.groupby([\"car_number\"])[\"login_hours\"].sum()\n",
    "total_login_hours = total_login_hours.sort_index()\n",
    "total_login_hours"
   ]
  },
  {
   "cell_type": "code",
   "execution_count": 235,
   "metadata": {},
   "outputs": [],
   "source": [
    "temp = df.groupby([\"car_number\"])[\"category\"].value_counts()"
   ]
  },
  {
   "cell_type": "code",
   "execution_count": 236,
   "metadata": {},
   "outputs": [],
   "source": [
    "tempdf = temp.to_frame()\n",
    "l = []\n",
    "for index, row in tempdf.iterrows():\n",
    "   l.append(index[1])"
   ]
  },
  {
   "cell_type": "code",
   "execution_count": 237,
   "metadata": {},
   "outputs": [],
   "source": [
    "l = [x for x in l if x != \"prime_play\"]"
   ]
  },
  {
   "cell_type": "code",
   "execution_count": 238,
   "metadata": {},
   "outputs": [
    {
     "data": {
      "text/plain": [
       "216"
      ]
     },
     "execution_count": 238,
     "metadata": {},
     "output_type": "execute_result"
    }
   ],
   "source": [
    "len(l)"
   ]
  },
  {
   "cell_type": "code",
   "execution_count": 239,
   "metadata": {},
   "outputs": [],
   "source": [
    "df = pd.concat([total_login_hours,number_of_days],axis=1)"
   ]
  },
  {
   "cell_type": "code",
   "execution_count": 240,
   "metadata": {},
   "outputs": [],
   "source": [
    "df[\"category\"] = l"
   ]
  },
  {
   "cell_type": "code",
   "execution_count": 241,
   "metadata": {},
   "outputs": [
    {
     "data": {
      "text/html": [
       "<div>\n",
       "<style scoped>\n",
       "    .dataframe tbody tr th:only-of-type {\n",
       "        vertical-align: middle;\n",
       "    }\n",
       "\n",
       "    .dataframe tbody tr th {\n",
       "        vertical-align: top;\n",
       "    }\n",
       "\n",
       "    .dataframe thead th {\n",
       "        text-align: right;\n",
       "    }\n",
       "</style>\n",
       "<table border=\"1\" class=\"dataframe\">\n",
       "  <thead>\n",
       "    <tr style=\"text-align: right;\">\n",
       "      <th></th>\n",
       "      <th>login_hours</th>\n",
       "      <th>car_number</th>\n",
       "      <th>category</th>\n",
       "    </tr>\n",
       "    <tr>\n",
       "      <th>car_number</th>\n",
       "      <th></th>\n",
       "      <th></th>\n",
       "      <th></th>\n",
       "    </tr>\n",
       "  </thead>\n",
       "  <tbody>\n",
       "    <tr>\n",
       "      <th>A29TV6235</th>\n",
       "      <td>9.846944</td>\n",
       "      <td>8</td>\n",
       "      <td>prime</td>\n",
       "    </tr>\n",
       "    <tr>\n",
       "      <th>AP01TV0821</th>\n",
       "      <td>63.160556</td>\n",
       "      <td>7</td>\n",
       "      <td>mini</td>\n",
       "    </tr>\n",
       "    <tr>\n",
       "      <th>AP01TV0906</th>\n",
       "      <td>236.926389</td>\n",
       "      <td>28</td>\n",
       "      <td>mini</td>\n",
       "    </tr>\n",
       "    <tr>\n",
       "      <th>AP02TV1883</th>\n",
       "      <td>320.696389</td>\n",
       "      <td>44</td>\n",
       "      <td>prime</td>\n",
       "    </tr>\n",
       "    <tr>\n",
       "      <th>AP02TV2215</th>\n",
       "      <td>55.156667</td>\n",
       "      <td>8</td>\n",
       "      <td>prime</td>\n",
       "    </tr>\n",
       "  </tbody>\n",
       "</table>\n",
       "</div>"
      ],
      "text/plain": [
       "            login_hours  car_number category\n",
       "car_number                                  \n",
       "A29TV6235      9.846944           8    prime\n",
       "AP01TV0821    63.160556           7     mini\n",
       "AP01TV0906   236.926389          28     mini\n",
       "AP02TV1883   320.696389          44    prime\n",
       "AP02TV2215    55.156667           8    prime"
      ]
     },
     "execution_count": 241,
     "metadata": {},
     "output_type": "execute_result"
    }
   ],
   "source": [
    "df.head()"
   ]
  },
  {
   "cell_type": "code",
   "execution_count": 242,
   "metadata": {},
   "outputs": [],
   "source": [
    "df.columns = ['login_hours', 'number_of_days', 'category']"
   ]
  },
  {
   "cell_type": "code",
   "execution_count": 243,
   "metadata": {},
   "outputs": [],
   "source": [
    "df[\"hours_per_day\"] = df['login_hours']/df['number_of_days']"
   ]
  },
  {
   "cell_type": "code",
   "execution_count": 244,
   "metadata": {},
   "outputs": [],
   "source": [
    "df = df.drop('login_hours',axis=1)"
   ]
  },
  {
   "cell_type": "code",
   "execution_count": 245,
   "metadata": {},
   "outputs": [],
   "source": [
    "from sklearn.cluster import KMeans"
   ]
  },
  {
   "cell_type": "code",
   "execution_count": 246,
   "metadata": {},
   "outputs": [],
   "source": [
    "kmeans = KMeans(n_clusters=2)"
   ]
  },
  {
   "cell_type": "code",
   "execution_count": 247,
   "metadata": {},
   "outputs": [],
   "source": [
    "df = df[df.category != \"micro\"]"
   ]
  },
  {
   "cell_type": "code",
   "execution_count": 248,
   "metadata": {},
   "outputs": [],
   "source": [
    "df[\"category\"]  = df[\"category\"].map({\"prime\":1,\"economy_suv\":2,\"mini\":3})"
   ]
  },
  {
   "cell_type": "code",
   "execution_count": 249,
   "metadata": {},
   "outputs": [
    {
     "data": {
      "text/html": [
       "<div>\n",
       "<style scoped>\n",
       "    .dataframe tbody tr th:only-of-type {\n",
       "        vertical-align: middle;\n",
       "    }\n",
       "\n",
       "    .dataframe tbody tr th {\n",
       "        vertical-align: top;\n",
       "    }\n",
       "\n",
       "    .dataframe thead th {\n",
       "        text-align: right;\n",
       "    }\n",
       "</style>\n",
       "<table border=\"1\" class=\"dataframe\">\n",
       "  <thead>\n",
       "    <tr style=\"text-align: right;\">\n",
       "      <th></th>\n",
       "      <th>number_of_days</th>\n",
       "      <th>category</th>\n",
       "      <th>hours_per_day</th>\n",
       "    </tr>\n",
       "    <tr>\n",
       "      <th>car_number</th>\n",
       "      <th></th>\n",
       "      <th></th>\n",
       "      <th></th>\n",
       "    </tr>\n",
       "  </thead>\n",
       "  <tbody>\n",
       "    <tr>\n",
       "      <th>A29TV6235</th>\n",
       "      <td>8</td>\n",
       "      <td>1</td>\n",
       "      <td>1.230868</td>\n",
       "    </tr>\n",
       "    <tr>\n",
       "      <th>AP01TV0821</th>\n",
       "      <td>7</td>\n",
       "      <td>3</td>\n",
       "      <td>9.022937</td>\n",
       "    </tr>\n",
       "    <tr>\n",
       "      <th>AP01TV0906</th>\n",
       "      <td>28</td>\n",
       "      <td>3</td>\n",
       "      <td>8.461657</td>\n",
       "    </tr>\n",
       "    <tr>\n",
       "      <th>AP02TV1883</th>\n",
       "      <td>44</td>\n",
       "      <td>1</td>\n",
       "      <td>7.288554</td>\n",
       "    </tr>\n",
       "    <tr>\n",
       "      <th>AP02TV2215</th>\n",
       "      <td>8</td>\n",
       "      <td>1</td>\n",
       "      <td>6.894583</td>\n",
       "    </tr>\n",
       "  </tbody>\n",
       "</table>\n",
       "</div>"
      ],
      "text/plain": [
       "            number_of_days  category  hours_per_day\n",
       "car_number                                         \n",
       "A29TV6235                8         1       1.230868\n",
       "AP01TV0821               7         3       9.022937\n",
       "AP01TV0906              28         3       8.461657\n",
       "AP02TV1883              44         1       7.288554\n",
       "AP02TV2215               8         1       6.894583"
      ]
     },
     "execution_count": 249,
     "metadata": {},
     "output_type": "execute_result"
    }
   ],
   "source": [
    "df.head()"
   ]
  },
  {
   "cell_type": "code",
   "execution_count": 250,
   "metadata": {},
   "outputs": [
    {
     "data": {
      "text/plain": [
       "KMeans(algorithm='auto', copy_x=True, init='k-means++', max_iter=300,\n",
       "    n_clusters=2, n_init=10, n_jobs=1, precompute_distances='auto',\n",
       "    random_state=None, tol=0.0001, verbose=0)"
      ]
     },
     "execution_count": 250,
     "metadata": {},
     "output_type": "execute_result"
    }
   ],
   "source": [
    "kmeans.fit(df.values)"
   ]
  },
  {
   "cell_type": "code",
   "execution_count": 251,
   "metadata": {},
   "outputs": [
    {
     "data": {
      "text/plain": [
       "array([1, 1, 0, 0, 1, 1, 0, 1, 1, 0, 1, 1, 0, 0, 0, 1, 1, 1, 1, 0, 0, 0,\n",
       "       1, 0, 1, 1, 1, 0, 1, 1, 1, 1, 1, 1, 1, 1, 0, 1, 0, 1, 1, 1, 1, 1,\n",
       "       1, 1, 0, 0, 0, 1, 0, 0, 1, 0, 0, 1, 1, 0, 0, 1, 0, 1, 1, 1, 0, 0,\n",
       "       1, 0, 0, 1, 1, 0, 1, 0, 0, 0, 1, 0, 1, 1, 0, 1, 0, 1, 1, 1, 0, 1,\n",
       "       1, 1, 0, 1, 1, 0, 0, 1, 0, 0, 0, 0, 0, 1, 0, 1, 0, 0, 0, 1, 1, 1,\n",
       "       0, 1, 1, 0, 0, 1, 1, 0, 1, 1, 0, 1, 1, 1, 1, 1, 1, 1, 1, 1, 1, 0,\n",
       "       1, 0, 0, 1, 1, 1, 0, 1, 1, 1, 1, 1, 0, 1, 1, 1, 0, 0, 1, 0, 1, 0,\n",
       "       0, 0, 0, 1, 1, 1, 0, 1, 0, 0, 0, 0, 0, 0, 1, 1, 0, 1, 1, 1, 1, 0,\n",
       "       0, 0, 1, 0, 0, 0, 0, 1, 1, 0, 1, 1, 1, 0, 1, 1, 0, 1, 1, 1, 1, 0,\n",
       "       0, 1, 0, 0, 1, 0, 0, 1, 1, 1, 0, 1, 0, 0, 1, 1], dtype=int32)"
      ]
     },
     "execution_count": 251,
     "metadata": {},
     "output_type": "execute_result"
    }
   ],
   "source": [
    "kmeans.labels_"
   ]
  },
  {
   "cell_type": "code",
   "execution_count": 252,
   "metadata": {},
   "outputs": [],
   "source": [
    "df[\"labels\"] = kmeans.labels_"
   ]
  },
  {
   "cell_type": "code",
   "execution_count": 253,
   "metadata": {},
   "outputs": [
    {
     "name": "stdout",
     "output_type": "stream",
     "text": [
      "\n",
      "\n"
     ]
    },
    {
     "data": {
      "text/plain": [
       "1    122\n",
       "0     92\n",
       "Name: labels, dtype: int64"
      ]
     },
     "execution_count": 253,
     "metadata": {},
     "output_type": "execute_result"
    },
    {
     "data": {
      "image/png": "[encoded data removed]",
      "text/plain": [
       "<Figure size 762.375x720 with 20 Axes>"
      ]
     },
     "metadata": {},
     "output_type": "display_data"
    }
   ],
   "source": [
    "sns.pairplot(df,hue=\"labels\")\n",
    "print(\"\\n\")\n",
    "df[\"labels\"].value_counts()"
   ]
  },
  {
   "cell_type": "code",
   "execution_count": null,
   "metadata": {},
   "outputs": [],
   "source": []
  },
  {
   "cell_type": "code",
   "execution_count": null,
   "metadata": {},
   "outputs": [],
   "source": []
  },
  {
   "cell_type": "code",
   "execution_count": null,
   "metadata": {},
   "outputs": [],
   "source": []
  },
  {
   "cell_type": "code",
   "execution_count": null,
   "metadata": {},
   "outputs": [],
   "source": []
  }
 ],
 "metadata": {
  "kernelspec": {
   "display_name": "Python 3",
   "language": "python",
   "name": "python3"
  },
  "language_info": {
   "codemirror_mode": {
    "name": "ipython",
    "version": 3
   },
   "file_extension": ".py",
   "mimetype": "text/x-python",
   "name": "python",
   "nbconvert_exporter": "python",
   "pygments_lexer": "ipython3",
   "version": "3.6.5"
  }
 },
 "nbformat": 4,
 "nbformat_minor": 2
}
