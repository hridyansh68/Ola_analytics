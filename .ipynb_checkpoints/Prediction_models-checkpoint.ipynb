{
 "cells": [
  {
   "cell_type": "code",
   "execution_count": 13,
   "metadata": {},
   "outputs": [],
   "source": [
    "import pandas as pd\n",
    "import numpy as np\n",
    "import matplotlib.pyplot as plt\n",
    "import seaborn as sns\n",
    "%matplotlib inline"
   ]
  },
  {
   "cell_type": "code",
   "execution_count": 14,
   "metadata": {},
   "outputs": [],
   "source": [
    "df = pd.read_csv(\"login_hours.csv\")"
   ]
  },
  {
   "cell_type": "code",
   "execution_count": 15,
   "metadata": {},
   "outputs": [
    {
     "data": {
      "text/html": [
       "<div>\n",
       "<style scoped>\n",
       "    .dataframe tbody tr th:only-of-type {\n",
       "        vertical-align: middle;\n",
       "    }\n",
       "\n",
       "    .dataframe tbody tr th {\n",
       "        vertical-align: top;\n",
       "    }\n",
       "\n",
       "    .dataframe thead th {\n",
       "        text-align: right;\n",
       "    }\n",
       "</style>\n",
       "<table border=\"1\" class=\"dataframe\">\n",
       "  <thead>\n",
       "    <tr style=\"text-align: right;\">\n",
       "      <th></th>\n",
       "      <th>active_date</th>\n",
       "      <th>wk</th>\n",
       "      <th>category</th>\n",
       "      <th>service_city</th>\n",
       "      <th>car_number</th>\n",
       "      <th>login_hours</th>\n",
       "      <th>active_hours</th>\n",
       "    </tr>\n",
       "  </thead>\n",
       "  <tbody>\n",
       "    <tr>\n",
       "      <th>0</th>\n",
       "      <td>2018-11-27</td>\n",
       "      <td>48</td>\n",
       "      <td>mini</td>\n",
       "      <td>hyderabad</td>\n",
       "      <td>AP01TV0906</td>\n",
       "      <td>12.007778</td>\n",
       "      <td>7.466667</td>\n",
       "    </tr>\n",
       "    <tr>\n",
       "      <th>1</th>\n",
       "      <td>2018-11-21</td>\n",
       "      <td>47</td>\n",
       "      <td>mini</td>\n",
       "      <td>hyderabad</td>\n",
       "      <td>AP02TV2290</td>\n",
       "      <td>0.027500</td>\n",
       "      <td>0.000000</td>\n",
       "    </tr>\n",
       "    <tr>\n",
       "      <th>2</th>\n",
       "      <td>2018-11-17</td>\n",
       "      <td>46</td>\n",
       "      <td>mini</td>\n",
       "      <td>hyderabad</td>\n",
       "      <td>AP02TV6490</td>\n",
       "      <td>8.843611</td>\n",
       "      <td>6.700000</td>\n",
       "    </tr>\n",
       "    <tr>\n",
       "      <th>3</th>\n",
       "      <td>2018-11-17</td>\n",
       "      <td>46</td>\n",
       "      <td>economy_suv</td>\n",
       "      <td>hyderabad</td>\n",
       "      <td>AP03TB9627</td>\n",
       "      <td>2.074444</td>\n",
       "      <td>0.650000</td>\n",
       "    </tr>\n",
       "    <tr>\n",
       "      <th>4</th>\n",
       "      <td>2018-11-27</td>\n",
       "      <td>48</td>\n",
       "      <td>economy_suv</td>\n",
       "      <td>hyderabad</td>\n",
       "      <td>AP03TL3034</td>\n",
       "      <td>18.920556</td>\n",
       "      <td>6.383333</td>\n",
       "    </tr>\n",
       "  </tbody>\n",
       "</table>\n",
       "</div>"
      ],
      "text/plain": [
       "  active_date  wk     category service_city  car_number  login_hours  \\\n",
       "0  2018-11-27  48         mini    hyderabad  AP01TV0906    12.007778   \n",
       "1  2018-11-21  47         mini    hyderabad  AP02TV2290     0.027500   \n",
       "2  2018-11-17  46         mini    hyderabad  AP02TV6490     8.843611   \n",
       "3  2018-11-17  46  economy_suv    hyderabad  AP03TB9627     2.074444   \n",
       "4  2018-11-27  48  economy_suv    hyderabad  AP03TL3034    18.920556   \n",
       "\n",
       "   active_hours  \n",
       "0      7.466667  \n",
       "1      0.000000  \n",
       "2      6.700000  \n",
       "3      0.650000  \n",
       "4      6.383333  "
      ]
     },
     "execution_count": 15,
     "metadata": {},
     "output_type": "execute_result"
    }
   ],
   "source": [
    "df.head()"
   ]
  },
  {
   "cell_type": "code",
   "execution_count": 16,
   "metadata": {},
   "outputs": [],
   "source": [
    "df = df.sort_values(by=['car_number','active_date'],ascending=[True,True])\n",
    "df = df[df.category != \"auto\"]"
   ]
  },
  {
   "cell_type": "code",
   "execution_count": 17,
   "metadata": {},
   "outputs": [],
   "source": [
    "number_of_days = df[\"car_number\"].value_counts()\n",
    "number_of_days = number_of_days.sort_index()"
   ]
  },
  {
   "cell_type": "code",
   "execution_count": 18,
   "metadata": {},
   "outputs": [],
   "source": [
    "total_login_hours = df.groupby([\"car_number\"])[\"login_hours\"].sum()\n",
    "total_login_hours = total_login_hours.sort_index()"
   ]
  },
  {
   "cell_type": "code",
   "execution_count": 19,
   "metadata": {},
   "outputs": [
    {
     "data": {
      "text/html": [
       "<div>\n",
       "<style scoped>\n",
       "    .dataframe tbody tr th:only-of-type {\n",
       "        vertical-align: middle;\n",
       "    }\n",
       "\n",
       "    .dataframe tbody tr th {\n",
       "        vertical-align: top;\n",
       "    }\n",
       "\n",
       "    .dataframe thead th {\n",
       "        text-align: right;\n",
       "    }\n",
       "</style>\n",
       "<table border=\"1\" class=\"dataframe\">\n",
       "  <thead>\n",
       "    <tr style=\"text-align: right;\">\n",
       "      <th></th>\n",
       "      <th>number_of_days</th>\n",
       "      <th>login_hours</th>\n",
       "    </tr>\n",
       "    <tr>\n",
       "      <th>car_number</th>\n",
       "      <th></th>\n",
       "      <th></th>\n",
       "    </tr>\n",
       "  </thead>\n",
       "  <tbody>\n",
       "    <tr>\n",
       "      <th>A29TV6235</th>\n",
       "      <td>8</td>\n",
       "      <td>9.846944</td>\n",
       "    </tr>\n",
       "    <tr>\n",
       "      <th>AP01TV0821</th>\n",
       "      <td>7</td>\n",
       "      <td>63.160556</td>\n",
       "    </tr>\n",
       "    <tr>\n",
       "      <th>AP01TV0906</th>\n",
       "      <td>28</td>\n",
       "      <td>236.926389</td>\n",
       "    </tr>\n",
       "    <tr>\n",
       "      <th>AP02TV1883</th>\n",
       "      <td>44</td>\n",
       "      <td>320.696389</td>\n",
       "    </tr>\n",
       "    <tr>\n",
       "      <th>AP02TV2215</th>\n",
       "      <td>8</td>\n",
       "      <td>55.156667</td>\n",
       "    </tr>\n",
       "  </tbody>\n",
       "</table>\n",
       "</div>"
      ],
      "text/plain": [
       "            number_of_days  login_hours\n",
       "car_number                             \n",
       "A29TV6235                8     9.846944\n",
       "AP01TV0821               7    63.160556\n",
       "AP01TV0906              28   236.926389\n",
       "AP02TV1883              44   320.696389\n",
       "AP02TV2215               8    55.156667"
      ]
     },
     "execution_count": 19,
     "metadata": {},
     "output_type": "execute_result"
    }
   ],
   "source": [
    "df1 = pd.concat([number_of_days,total_login_hours],axis=1)\n",
    "df1.columns = ['number_of_days', 'login_hours']\n",
    "df1.head()"
   ]
  },
  {
   "cell_type": "code",
   "execution_count": 21,
   "metadata": {},
   "outputs": [],
   "source": [
    "from sklearn.cluster import KMeans"
   ]
  },
  {
   "cell_type": "code",
   "execution_count": null,
   "metadata": {},
   "outputs": [],
   "source": []
  },
  {
   "cell_type": "markdown",
   "metadata": {},
   "source": [
    "kmeans = KMeans(n_clusters=2)"
   ]
  },
  {
   "cell_type": "code",
   "execution_count": null,
   "metadata": {},
   "outputs": [],
   "source": []
  }
 ],
 "metadata": {
  "kernelspec": {
   "display_name": "Python 3",
   "language": "python",
   "name": "python3"
  },
  "language_info": {
   "codemirror_mode": {
    "name": "ipython",
    "version": 3
   },
   "file_extension": ".py",
   "mimetype": "text/x-python",
   "name": "python",
   "nbconvert_exporter": "python",
   "pygments_lexer": "ipython3",
   "version": "3.6.5"
  }
 },
 "nbformat": 4,
 "nbformat_minor": 2
}
